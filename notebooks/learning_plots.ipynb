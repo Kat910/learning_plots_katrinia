{
 "cells": [
  {
   "cell_type": "markdown",
   "id": "f64dd430",
   "metadata": {},
   "source": [
    "This is for Matplotlib exercise"
   ]
  },
  {
   "cell_type": "markdown",
   "id": "49bb349c",
   "metadata": {},
   "source": []
  }
 ],
 "metadata": {
  "language_info": {
   "name": "python"
  }
 },
 "nbformat": 4,
 "nbformat_minor": 5
}
